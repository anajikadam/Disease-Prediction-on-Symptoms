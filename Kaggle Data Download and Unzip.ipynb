{
 "cells": [
  {
   "cell_type": "code",
   "execution_count": 6,
   "metadata": {},
   "outputs": [],
   "source": [
    "# Import OS for navigation and environment set up\n",
    "import os\n",
    "# Check current location, '/content' is the Colab virtual machine\n",
    "os.getcwd()\n",
    "# Enable the Kaggle environment, use the path to the directory your Kaggle API JSON is stored in\n",
    "os.environ['KAGGLE_CONFIG_DIR'] = 'E:\\FraudDetectionProject\\Disease Symptom Prediction'"
   ]
  },
  {
   "cell_type": "code",
   "execution_count": 7,
   "metadata": {},
   "outputs": [
    {
     "name": "stdout",
     "output_type": "stream",
     "text": [
      "Downloading disease-symptom-description-dataset.zip to E:\\FraudDetectionProject\\Disease Symptom Prediction\n",
      "\n"
     ]
    },
    {
     "name": "stderr",
     "output_type": "stream",
     "text": [
      "\n",
      "  0%|          | 0.00/30.1k [00:00<?, ?B/s]\n",
      "100%|##########| 30.1k/30.1k [00:00<00:00, 222kB/s]\n",
      "100%|##########| 30.1k/30.1k [00:00<00:00, 222kB/s]\n"
     ]
    },
    {
     "data": {
      "text/plain": [
       "['.ipynb_checkpoints',\n",
       " 'Data',\n",
       " 'disease-symptom-description-dataset.zip',\n",
       " 'kaggle.json',\n",
       " 'Untitled.ipynb']"
      ]
     },
     "execution_count": 7,
     "metadata": {},
     "output_type": "execute_result"
    }
   ],
   "source": [
    "# Navigate into Drive where you want to store your Kaggle data\n",
    "os.chdir(\"E:\\FraudDetectionProject\\Disease Symptom Prediction\")\n",
    "# Paste and run the copied API command, the data will download to the current directory\n",
    "# !kaggle datasets download -d paultimothymooney/chest-xray-pneumonia\n",
    "# !paste datasets api\n",
    "!kaggle datasets download -d itachi9604/disease-symptom-description-dataset\n",
    "# Check contents of directory, you should see the .zip file for the competition in your Drive\n",
    "os.listdir()"
   ]
  },
  {
   "cell_type": "code",
   "execution_count": 8,
   "metadata": {},
   "outputs": [
    {
     "name": "stderr",
     "output_type": "stream",
     "text": [
      "'cp' is not recognized as an internal or external command,\n",
      "operable program or batch file.\n",
      "'unzip' is not recognized as an internal or external command,\n",
      "operable program or batch file.\n"
     ]
    },
    {
     "data": {
      "text/plain": [
       "['.ipynb_checkpoints',\n",
       " 'Data',\n",
       " 'disease-symptom-description-dataset.zip',\n",
       " 'kaggle.json',\n",
       " 'Untitled.ipynb']"
      ]
     },
     "execution_count": 8,
     "metadata": {},
     "output_type": "execute_result"
    }
   ],
   "source": [
    "# Complete path to storage location of the .zip file of data\n",
    "zip_path = 'E:\\FraudDetectionProject\\Disease Symptom Prediction\\disease-symptom-description-dataset.zip'\n",
    "# Check current directory (be sure you're in the directory where Colab operates: '/content')\n",
    "os.getcwd()\n",
    "# Copy the .zip file into the present directory\n",
    "!cp '{zip_path}' .\n",
    "# Unzip quietly \n",
    "!unzip -q 'disease-symptom-description-dataset.zip'\n",
    "# View the unzipped contents in the virtual machine\n",
    "os.listdir()"
   ]
  },
  {
   "cell_type": "code",
   "execution_count": null,
   "metadata": {},
   "outputs": [],
   "source": []
  },
  {
   "cell_type": "code",
   "execution_count": null,
   "metadata": {},
   "outputs": [],
   "source": []
  },
  {
   "cell_type": "code",
   "execution_count": 10,
   "metadata": {},
   "outputs": [],
   "source": [
    "# Complete path to storage location of the .zip file of data\n",
    "zip_path = 'E:\\FraudDetectionProject\\Disease Symptom Prediction\\disease-symptom-description-dataset.zip'\n",
    "\n",
    "import zipfile\n",
    "with zipfile.ZipFile(zip_path,\"r\") as zip_ref:\n",
    "    zip_ref.extractall(\"Data\")"
   ]
  },
  {
   "cell_type": "code",
   "execution_count": null,
   "metadata": {},
   "outputs": [],
   "source": []
  }
 ],
 "metadata": {
  "kernelspec": {
   "display_name": "Python 3",
   "language": "python",
   "name": "python3"
  },
  "language_info": {
   "codemirror_mode": {
    "name": "ipython",
    "version": 3
   },
   "file_extension": ".py",
   "mimetype": "text/x-python",
   "name": "python",
   "nbconvert_exporter": "python",
   "pygments_lexer": "ipython3",
   "version": "3.8.5"
  }
 },
 "nbformat": 4,
 "nbformat_minor": 4
}
